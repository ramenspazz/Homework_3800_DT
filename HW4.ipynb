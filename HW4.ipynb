{
 "metadata": {
  "language_info": {
   "codemirror_mode": {
    "name": "ipython",
    "version": 3
   },
   "file_extension": ".py",
   "mimetype": "text/x-python",
   "name": "python",
   "nbconvert_exporter": "python",
   "pygments_lexer": "ipython3",
   "version": 3
  },
  "orig_nbformat": 2
 },
 "nbformat": 4,
 "nbformat_minor": 2,
 "cells": [
  {
   "cell_type": "code",
   "execution_count": null,
   "metadata": {},
   "outputs": [],
   "source": [
    "import Data_Analysis as DA\n",
    "import matplotlib.pyplot as plt\n",
    "import numpy as np\n",
    "import math\n",
    "np.set_printoptions(precision=2)\n",
    "# needs ipympl\n",
    "%matplotlib widget "
   ]
  },
  {
   "cell_type": "code",
   "execution_count": null,
   "metadata": {},
   "outputs": [],
   "source": [
    "HW_data = DA.parse_data_file('Beta.csv', [1])\n",
    "HW_data_mean, HW_data_sd = DA.std_dev(HW_data)\n",
    "DA.fit_gaussian(HW_data,HW_data_mean,HW_data_sd)\n",
    "error = 0\n",
    "temp = sum(HW_data)[0]\n",
    "error = math.sqrt(temp)/len(HW_data)\n",
    "print(error)"
   ]
  }
 ]
}